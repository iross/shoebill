{
 "cells": [
  {
   "cell_type": "code",
   "execution_count": 4,
   "id": "7c09adff-7332-4dcf-a024-0f1a2e83ad9b",
   "metadata": {},
   "outputs": [],
   "source": [
    "from parse import *"
   ]
  },
  {
   "cell_type": "markdown",
   "id": "3e2001d7-499f-4f49-b26b-0da6976538fa",
   "metadata": {},
   "source": [
    "# File format\n",
    "The current implementation reads in a file (or accepts a string) and looks for %HTCSS as a special marker. It will then add the text between markers to the specified field of a dictionary (TEMPLATE or TABLE). These are the only section headers it does anything with, and both are required.\n",
    "\n",
    "The pattern and parsing are flexible and this is just the first implementation.\n",
    "\n"
   ]
  },
  {
   "cell_type": "code",
   "execution_count": 5,
   "id": "c4abfe30-854d-40a8-8988-a24170c5a0a2",
   "metadata": {},
   "outputs": [],
   "source": [
    "FILE = \"\"\"\n",
    "%HTCSS TEMPLATE\n",
    "executable=dummy.sh\n",
    "arguments= $(a) $(b)\n",
    "output=cat-$(ProcId).out\n",
    "error=cat-$(ProcId).err\n",
    "log=cat.log\n",
    "request_cpus=1\n",
    "request_memory=128MB\n",
    "request_disk=128MB\n",
    "queue from TABLE table.csv\n",
    "%HTCSS TABLE\n",
    "a,b\n",
    "1,2\n",
    "3,4\n",
    "5,6\n",
    "\"\"\""
   ]
  },
  {
   "cell_type": "markdown",
   "id": "26e31a3c-0d7d-4886-87d6-9724fab239b5",
   "metadata": {},
   "source": [
    "One current pain point is that the QUEUE FROM TABLE necessitates reading from a file on disk, so the parsed table gets written out (and optionally cleaned up)"
   ]
  },
  {
   "cell_type": "code",
   "execution_count": 7,
   "id": "40440434-6eba-4c46-be81-a49421ce7f16",
   "metadata": {},
   "outputs": [
    {
     "name": "stdout",
     "output_type": "stream",
     "text": [
      "-----\n",
      "Table: \n",
      "a,b\n",
      "1,2\n",
      "3,4\n",
      "5,6\n",
      "-----\n",
      "Submit template: \n",
      "executable=dummy.sh\n",
      "arguments= $(a) $(b)\n",
      "output=cat-$(ProcId).out\n",
      "error=cat-$(ProcId).err\n",
      "log=cat.log\n",
      "request_cpus=1\n",
      "request_memory=128MB\n",
      "request_disk=128MB\n",
      "queue from TABLE table.csv\n"
     ]
    }
   ],
   "source": [
    "res = parse_htcss_string(FILE)\n",
    "print(\"-----\")\n",
    "print(\"Table: \")\n",
    "print(res[\"TABLE\"])\n",
    "print(\"-----\")\n",
    "print(\"Submit template: \")\n",
    "print(res[\"TEMPLATE\"])"
   ]
  },
  {
   "cell_type": "markdown",
   "id": "80729565-cc2d-472f-8381-d6a49e380259",
   "metadata": {},
   "source": [
    "# Job submission\n",
    "The parsed template is a valid Submit object within the python bindings, so job submission is the same as a typical binding-driven one:"
   ]
  },
  {
   "cell_type": "code",
   "execution_count": 8,
   "id": "fa09b6bb-01a4-404e-89d3-fa465ff1f497",
   "metadata": {},
   "outputs": [
    {
     "ename": "HTCondorException",
     "evalue": "Unable to locate local daemon.",
     "output_type": "error",
     "traceback": [
      "\u001b[0;31m---------------------------------------------------------------------------\u001b[0m",
      "\u001b[0;31mHTCondorException\u001b[0m                         Traceback (most recent call last)",
      "Cell \u001b[0;32mIn[8], line 1\u001b[0m\n\u001b[0;32m----> 1\u001b[0m schedd \u001b[38;5;241m=\u001b[39m \u001b[43mhtcondor\u001b[49m\u001b[38;5;241;43m.\u001b[39;49m\u001b[43mSchedd\u001b[49m\u001b[43m(\u001b[49m\u001b[43m)\u001b[49m\n\u001b[1;32m      2\u001b[0m submit_result \u001b[38;5;241m=\u001b[39m schedd\u001b[38;5;241m.\u001b[39msubmit(htcondor\u001b[38;5;241m.\u001b[39mSubmit(res[\u001b[38;5;124m\"\u001b[39m\u001b[38;5;124mTEMPLATE\u001b[39m\u001b[38;5;124m\"\u001b[39m]))\n",
      "File \u001b[0;32m/workspaces/htcondor_python_bindings_tests/.venv/lib/python3.11/site-packages/htcondor2/_schedd.py:95\u001b[0m, in \u001b[0;36mSchedd.__init__\u001b[0;34m(self, location)\u001b[0m\n\u001b[1;32m     93\u001b[0m \u001b[38;5;28;01mif\u001b[39;00m location \u001b[38;5;129;01mis\u001b[39;00m \u001b[38;5;28;01mNone\u001b[39;00m:\n\u001b[1;32m     94\u001b[0m     c \u001b[38;5;241m=\u001b[39m Collector()\n\u001b[0;32m---> 95\u001b[0m     location \u001b[38;5;241m=\u001b[39m \u001b[43mc\u001b[49m\u001b[38;5;241;43m.\u001b[39;49m\u001b[43mlocate\u001b[49m\u001b[43m(\u001b[49m\u001b[43mDaemonType\u001b[49m\u001b[38;5;241;43m.\u001b[39;49m\u001b[43mSchedd\u001b[49m\u001b[43m)\u001b[49m\n\u001b[1;32m     97\u001b[0m \u001b[38;5;28;01mif\u001b[39;00m \u001b[38;5;129;01mnot\u001b[39;00m \u001b[38;5;28misinstance\u001b[39m(location, classad\u001b[38;5;241m.\u001b[39mClassAd):\n\u001b[1;32m     98\u001b[0m     \u001b[38;5;28;01mraise\u001b[39;00m \u001b[38;5;167;01mTypeError\u001b[39;00m(\u001b[38;5;124m\"\u001b[39m\u001b[38;5;124mlocation must be a ClassAd\u001b[39m\u001b[38;5;124m\"\u001b[39m)\n",
      "File \u001b[0;32m/workspaces/htcondor_python_bindings_tests/.venv/lib/python3.11/site-packages/htcondor2/_collector.py:179\u001b[0m, in \u001b[0;36mCollector.locate\u001b[0;34m(self, daemon_type, name)\u001b[0m\n\u001b[1;32m    176\u001b[0m         \u001b[38;5;28;01mreturn\u001b[39;00m \u001b[38;5;28;01mNone\u001b[39;00m\n\u001b[1;32m    177\u001b[0m     \u001b[38;5;28;01mreturn\u001b[39;00m \u001b[38;5;28mlist\u001b[39m[\u001b[38;5;241m0\u001b[39m]\n\u001b[0;32m--> 179\u001b[0m \u001b[38;5;28;01mreturn\u001b[39;00m \u001b[43m_collector_locate_local\u001b[49m\u001b[43m(\u001b[49m\u001b[38;5;28;43mself\u001b[39;49m\u001b[43m,\u001b[49m\u001b[43m \u001b[49m\u001b[38;5;28;43mself\u001b[39;49m\u001b[38;5;241;43m.\u001b[39;49m\u001b[43m_handle\u001b[49m\u001b[43m,\u001b[49m\u001b[43m \u001b[49m\u001b[38;5;28;43mint\u001b[39;49m\u001b[43m(\u001b[49m\u001b[43mdaemon_type\u001b[49m\u001b[43m)\u001b[49m\u001b[43m)\u001b[49m\n",
      "\u001b[0;31mHTCondorException\u001b[0m: Unable to locate local daemon."
     ]
    }
   ],
   "source": [
    "schedd = htcondor.Schedd()\n",
    "submit_result = schedd.submit(htcondor.Submit(res[\"TEMPLATE\"]))"
   ]
  },
  {
   "cell_type": "code",
   "execution_count": null,
   "id": "81d6ad49-c871-46d8-8d1d-50e7213f3431",
   "metadata": {},
   "outputs": [],
   "source": []
  }
 ],
 "metadata": {
  "kernelspec": {
   "display_name": "Python 3 (ipykernel)",
   "language": "python",
   "name": "python3"
  },
  "language_info": {
   "codemirror_mode": {
    "name": "ipython",
    "version": 3
   },
   "file_extension": ".py",
   "mimetype": "text/x-python",
   "name": "python",
   "nbconvert_exporter": "python",
   "pygments_lexer": "ipython3",
   "version": "3.11.10"
  }
 },
 "nbformat": 4,
 "nbformat_minor": 5
}
